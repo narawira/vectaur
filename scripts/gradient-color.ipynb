{
 "cells": [
  {
   "cell_type": "code",
   "execution_count": 4,
   "metadata": {},
   "outputs": [],
   "source": [
    "from matplotlib.colors import rgb2hex\n",
    "from sklearn.cluster import KMeans\n",
    "import numpy as np\n",
    "import re"
   ]
  },
  {
   "cell_type": "code",
   "execution_count": 31,
   "metadata": {},
   "outputs": [],
   "source": [
    "def get_dominant_color(css_gradients):\n",
    "    # Extracting colors from the CSS gradients\n",
    "    colors = []\n",
    "    for gradient in css_gradients:\n",
    "        matches = re.findall(r'rgba\\((\\d+),\\s*(\\d+),\\s*(\\d+),\\s*[\\d.]+\\)', gradient)\n",
    "        colors.extend([tuple(map(int, match)) for match in matches])\n",
    "\n",
    "    # Clustering to find dominant color\n",
    "    kmeans = KMeans(n_clusters=1)\n",
    "    kmeans.fit(colors)\n",
    "    dominant_color = kmeans.cluster_centers_[0].astype(int)\n",
    "\n",
    "    return tuple(dominant_color)\n",
    "\n",
    "def rgb_to_hex(rgb):\n",
    "    \"\"\"Convert RGB to Hex color.\"\"\"\n",
    "    return rgb2hex([x/255.0 for x in rgb])\n",
    "\n",
    "def approximate_color_name(rgb):\n",
    "    \"\"\"Approximate color name based on the RGB values.\"\"\"\n",
    "    # Color names and their RGB values\n",
    "    color_names = {\n",
    "        \"01-Light\": (255, 255, 255),\n",
    "        \"02-Lime\": (123, 237, 159),\n",
    "        \"03-Green\": (46, 213, 115),\n",
    "        \"04-Golden\": (236, 204, 104),\n",
    "        \"05-Coral\": (255, 127, 80),\n",
    "        \"06-Orange\": (255, 165, 2),\n",
    "        \"07-Tomato\": (255, 99, 72),\n",
    "        \"08-Watermelon\": (255, 71, 87),\n",
    "        \"09-Blue\": (112, 161, 255),\n",
    "        \"10-Sky\": (55, 66, 250),\n",
    "        \"11-Grisaille\": (87, 96, 111),\n",
    "        \"12-Prestige\": (47, 53, 66),\n",
    "    }\n",
    "\n",
    "    # Find the closest color\n",
    "    min_distance = float('inf')\n",
    "    closest_color = None\n",
    "    for name, color in color_names.items():\n",
    "        distance = sum((a-b)**2 for a, b in zip(rgb, color))\n",
    "        if distance < min_distance:\n",
    "            min_distance = distance\n",
    "            closest_color = name\n",
    "\n",
    "    return closest_color"
   ]
  },
  {
   "cell_type": "code",
   "execution_count": 32,
   "metadata": {},
   "outputs": [],
   "source": [
    "import json\n",
    "\n",
    "css_gradients = []\n",
    "# Open the file and load the data\n",
    "with open('./gradients.json', 'r') as f:\n",
    "    css_gradients = json.load(f)"
   ]
  },
  {
   "cell_type": "code",
   "execution_count": null,
   "metadata": {},
   "outputs": [],
   "source": [
    "# Extracting dominant colors for each gradient\n",
    "dominant_colors = [get_dominant_color([gradient['background']]) for gradient in css_gradients]\n",
    "\n",
    "# Preparing the response with color codes and names\n",
    "for i, color in enumerate(dominant_colors):\n",
    "    hex_color = rgb_to_hex(color)\n",
    "    color_name = approximate_color_name(color)\n",
    "    css_gradients[i]['dominant'] = hex_color\n",
    "    css_gradients[i]['color'] = color_name\n",
    "\n",
    "# Write the updated data back to the file\n",
    "with open('./gradients.json', 'w') as f:\n",
    "    json.dump(css_gradients, f, indent=4)"
   ]
  },
  {
   "cell_type": "code",
   "execution_count": 34,
   "metadata": {},
   "outputs": [],
   "source": [
    "def remove_similar_gradients(gradients):\n",
    "    seen_colors = set()\n",
    "    seen_names = set()\n",
    "    unique_gradients = []\n",
    "\n",
    "    for gradient in gradients:\n",
    "        color = gradient['dominant']\n",
    "        name = gradient['name']\n",
    "\n",
    "        if color not in seen_colors and name not in seen_names:\n",
    "            unique_gradients.append(gradient)\n",
    "            seen_colors.add(color)\n",
    "            seen_names.add(name)\n",
    "\n",
    "    return unique_gradients\n",
    "\n",
    "# Open the file and load the data\n",
    "with open('./gradients.json', 'r') as f:\n",
    "    data = json.load(f)\n",
    "\n",
    "# Remove similar gradients\n",
    "data = remove_similar_gradients(data)\n",
    "\n",
    "# Write the updated data back to the file\n",
    "with open('./gradients.json', 'w') as f:\n",
    "    json.dump(data, f, indent=4)"
   ]
  },
  {
   "cell_type": "code",
   "execution_count": 35,
   "metadata": {},
   "outputs": [],
   "source": [
    "from matplotlib.colors import rgb_to_hsv\n",
    "from itertools import groupby\n",
    "\n",
    "# Open the file and load the data\n",
    "with open('./gradients.json', 'r') as f:\n",
    "    data = json.load(f)\n",
    "\n",
    "# Convert hex color to RGB\n",
    "def hex_to_rgb(hex_color):\n",
    "    hex_color = hex_color.lstrip('#')\n",
    "    return tuple(int(hex_color[i:i+2], 16) for i in (0, 2, 4))\n",
    "\n",
    "# Sort the data by color\n",
    "data = sorted(data, key=lambda x: x['color'])\n",
    "\n",
    "# Write the sorted data back to the file\n",
    "with open('./gradients.json', 'w') as f:\n",
    "    json.dump(data, f, indent=4)"
   ]
  },
  {
   "cell_type": "code",
   "execution_count": null,
   "metadata": {},
   "outputs": [],
   "source": []
  },
  {
   "cell_type": "code",
   "execution_count": null,
   "metadata": {},
   "outputs": [],
   "source": []
  }
 ],
 "metadata": {
  "kernelspec": {
   "display_name": "Python 3",
   "language": "python",
   "name": "python3"
  },
  "language_info": {
   "codemirror_mode": {
    "name": "ipython",
    "version": 3
   },
   "file_extension": ".py",
   "mimetype": "text/x-python",
   "name": "python",
   "nbconvert_exporter": "python",
   "pygments_lexer": "ipython3",
   "version": "3.10.12"
  }
 },
 "nbformat": 4,
 "nbformat_minor": 2
}
